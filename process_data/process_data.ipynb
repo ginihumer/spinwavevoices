{
 "cells": [
  {
   "cell_type": "code",
   "execution_count": 1,
   "metadata": {},
   "outputs": [],
   "source": [
    "import pandas as pd"
   ]
  },
  {
   "cell_type": "code",
   "execution_count": null,
   "metadata": {},
   "outputs": [],
   "source": []
  },
  {
   "cell_type": "code",
   "execution_count": 2,
   "metadata": {},
   "outputs": [],
   "source": [
    "# process and subsample data"
   ]
  },
  {
   "cell_type": "code",
   "execution_count": 3,
   "metadata": {},
   "outputs": [],
   "source": [
    "import glob\n",
    "import pandas as pd\n",
    "import numpy as np\n",
    "txtfiles = [f for f in glob.glob(\"timeseries_rectangle/*.csv\")]\n",
    "for file in txtfiles:\n",
    "    sample_df = pd.read_csv(file, header=None)\n",
    "    sample_df = sample_df[np.array(sample_df.index)%2==1]\n",
    "    sample_df = sample_df[sample_df.columns[np.array(sample_df.columns)%2 == 1]]\n",
    "    sample_df.columns = np.arange(1, len(sample_df.columns)+1)\n",
    "    sample_df.to_csv(\"subsampled_\" + file)"
   ]
  }
 ],
 "metadata": {
  "kernelspec": {
   "display_name": "Python 3 (ipykernel)",
   "language": "python",
   "name": "python3"
  },
  "language_info": {
   "codemirror_mode": {
    "name": "ipython",
    "version": 3
   },
   "file_extension": ".py",
   "mimetype": "text/x-python",
   "name": "python",
   "nbconvert_exporter": "python",
   "pygments_lexer": "ipython3",
   "version": "3.9.10"
  },
  "vscode": {
   "interpreter": {
    "hash": "be07c2da83e45fc673a0812bdc8be21833184cc52e07e68641b113a5f0bb2e27"
   }
  }
 },
 "nbformat": 4,
 "nbformat_minor": 4
}
